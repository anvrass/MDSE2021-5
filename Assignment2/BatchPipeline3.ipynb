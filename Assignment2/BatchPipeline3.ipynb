{
 "cells": [
  {
   "cell_type": "code",
   "execution_count": 160,
   "id": "6082e75e-8022-421f-b8da-fe8765c5b058",
   "metadata": {},
   "outputs": [
    {
     "name": "stdout",
     "output_type": "stream",
     "text": [
      "root\n",
      " |-- Order ID: long (nullable = true)\n",
      " |-- Product: string (nullable = true)\n",
      " |-- Quantity Ordered: integer (nullable = true)\n",
      " |-- Price Each: double (nullable = true)\n",
      " |-- Order Date: string (nullable = true)\n",
      " |-- Purchase Address: string (nullable = true)\n",
      " |-- timestamp: timestamp (nullable = true)\n",
      " |-- totalprice: double (nullable = true)\n",
      "\n",
      "+--------+--------------------+----------------+----------+--------------+--------------------+-------------------+----------+\n",
      "|Order ID|             Product|Quantity Ordered|Price Each|    Order Date|    Purchase Address|          timestamp|totalprice|\n",
      "+--------+--------------------+----------------+----------+--------------+--------------------+-------------------+----------+\n",
      "|  295665|  Macbook Pro Laptop|               1|    1700.0|12/30/19 00:01|136 Church St, Ne...|2019-12-30 00:01:00|    1700.0|\n",
      "|  295666|  LG Washing Machine|               1|     600.0|12/29/19 07:03|562 2nd St, New Y...|2019-12-29 07:03:00|     600.0|\n",
      "|  295667|USB-C Charging Cable|               1|     11.95|12/12/19 18:21|277 Main St, New ...|2019-12-12 18:21:00|     11.95|\n",
      "|  295668|    27in FHD Monitor|               1|    149.99|12/22/19 15:13|410 6th St, San F...|2019-12-22 15:13:00|    149.99|\n",
      "|  295669|USB-C Charging Cable|               1|     11.95|12/18/19 12:38|43 Hill St, Atlan...|2019-12-18 12:38:00|     11.95|\n",
      "|  295670|AA Batteries (4-p...|               1|      3.84|12/31/19 22:58|200 Jefferson St,...|2019-12-31 22:58:00|      3.84|\n",
      "|  295671|USB-C Charging Cable|               1|     11.95|12/16/19 15:10|928 12th St, Port...|2019-12-16 15:10:00|     11.95|\n",
      "|  295672|USB-C Charging Cable|               2|     11.95|12/13/19 09:29|813 Hickory St, D...|2019-12-13 09:29:00|      23.9|\n",
      "|  295673|Bose SoundSport H...|               1|     99.99|12/15/19 23:26|718 Wilson St, Da...|2019-12-15 23:26:00|     99.99|\n",
      "|  295674|AAA Batteries (4-...|               4|      2.99|12/28/19 11:51|77 7th St, Dallas...|2019-12-28 11:51:00|     11.96|\n",
      "+--------+--------------------+----------------+----------+--------------+--------------------+-------------------+----------+\n",
      "only showing top 10 rows\n",
      "\n"
     ]
    }
   ],
   "source": [
    "from pyspark.sql import SparkSession\n",
    "from pyspark import SparkConf\n",
    "from pyspark.sql.types import StructType, StructField, LongType, StringType, DoubleType, DateType, IntegerType\n",
    "from pyspark.sql.functions import *\n",
    "\n",
    "sparkConf = SparkConf()\n",
    "sparkConf.setMaster(\"spark://spark-master:7077\")\n",
    "sparkConf.setAppName(\"GCSExample\")\n",
    "sparkConf.set(\"spark.driver.memory\", \"2g\")\n",
    "sparkConf.set(\"spark.executor.cores\", \"1\")\n",
    "sparkConf.set(\"spark.driver.cores\", \"1\")\n",
    "\n",
    "# create the spark session, which is the entry point to Spark SQL engine.\n",
    "spark = SparkSession.builder.config(conf=sparkConf).getOrCreate()\n",
    "\n",
    "# Setup hadoop fs configuration for schema gs://\n",
    "conf = spark.sparkContext._jsc.hadoopConfiguration()\n",
    "conf.set(\"fs.gs.impl\", \"com.google.cloud.hadoop.fs.gcs.GoogleHadoopFileSystem\")\n",
    "conf.set(\"fs.AbstractFileSystem.gs.impl\", \"com.google.cloud.hadoop.fs.gcs.GoogleHadoopFS\")\n",
    "\n",
    "# Create data frame, we use GS bucket as data sink\n",
    "\n",
    "# Google Storage File Path\n",
    "gsc_file_path = 'gs://dejads_input_assignment2/' \n",
    "\n",
    "dataSchema = StructType(\n",
    "    [StructField(\"Order ID\", LongType(), True),\n",
    "     StructField(\"Product\", StringType(), True),\n",
    "     StructField(\"Quantity Ordered\", IntegerType(), True),\n",
    "     StructField(\"Price Each\", DoubleType(), True),\n",
    "     StructField(\"Order Date\", StringType(), True),\n",
    "     StructField(\"Purchase Address\", StringType(), True)\n",
    "     ])\n",
    "\n",
    "#Read the data of all months\n",
    "sales_df = spark.read.format(\"csv\").schema(dataSchema).option(\"header\", \"true\") \\\n",
    "       .load(gsc_file_path+'*.csv')\n",
    "\n",
    "#Drop null rows\n",
    "sales_df = sales_df.na.drop(\"any\")\n",
    "\n",
    "#Convert \"Order Date\" to data type \"timestamp\"\n",
    "sales_df = sales_april_df.withColumn(\"timestamp\",to_timestamp(col(\"Order Date\"),'MM/dd/yy HH:mm')) \\\n",
    "\n",
    "sales_df.printSchema()\n",
    "sales_df.show(10)\n",
    "\n"
   ]
  },
  {
   "cell_type": "markdown",
   "id": "23f1dd7d-9165-4c4e-9a03-c726dd250bbe",
   "metadata": {},
   "source": [
    "# Return the names of ordered products from the largest order of each month"
   ]
  },
  {
   "cell_type": "code",
   "execution_count": 166,
   "id": "58da82f5-0004-44c8-a2b8-eb1503c77b61",
   "metadata": {},
   "outputs": [
    {
     "name": "stdout",
     "output_type": "stream",
     "text": [
      "+--------+--------------------+----------------+----------+--------------+--------------------+-------------------+----------+------------+-----+----+\n",
      "|Order ID|             Product|Quantity Ordered|Price Each|    Order Date|    Purchase Address|          timestamp|totalprice|Order Amount|month|rank|\n",
      "+--------+--------------------+----------------+----------+--------------+--------------------+-------------------+----------+------------+-----+----+\n",
      "|  149611|     ThinkPad Laptop|               2|    999.99|01/31/19 17:47|850 6th St, New Y...|2019-01-31 17:47:00|   1999.98|     1999.98|    1|   1|\n",
      "|  150518|  Macbook Pro Laptop|               1|    1700.0|02/26/19 12:38|847 10th St, San ...|2019-02-26 12:38:00|    1700.0|      2400.0|    2|   1|\n",
      "|  150518|              iPhone|               1|     700.0|02/26/19 12:38|847 10th St, San ...|2019-02-26 12:38:00|     700.0|      2400.0|    2|   1|\n",
      "|  163510|  Macbook Pro Laptop|               1|    1700.0|03/27/19 17:07|55 Wilson St, San...|2019-03-27 17:07:00|    1700.0|      1850.0|    3|   1|\n",
      "|  165197|Apple Airpods Hea...|               1|     150.0|03/22/19 22:44|653 River St, Atl...|2019-03-22 22:44:00|     150.0|      1850.0|    3|   1|\n",
      "|  165197|  Macbook Pro Laptop|               1|    1700.0|03/22/19 22:44|653 River St, Atl...|2019-03-22 22:44:00|    1700.0|      1850.0|    3|   1|\n",
      "|  163510|Apple Airpods Hea...|               1|     150.0|03/27/19 17:07|55 Wilson St, San...|2019-03-27 17:07:00|     150.0|      1850.0|    3|   1|\n",
      "|  181069|34in Ultrawide Mo...|               1|    379.99|04/27/19 21:01|668 Park St, San ...|2019-04-27 21:01:00|    379.99|     3779.99|    4|   1|\n",
      "|  181069|  Macbook Pro Laptop|               2|    1700.0|04/27/19 21:01|668 Park St, San ...|2019-04-27 21:01:00|    3400.0|     3779.99|    4|   1|\n",
      "|  200528|  Macbook Pro Laptop|               2|    1700.0|05/13/19 13:40|643 4th St, Bosto...|2019-05-13 13:40:00|    3400.0|      3400.0|    5|   1|\n",
      "|  202212|  Macbook Pro Laptop|               1|    1700.0|05/25/19 13:19|10 1st St, San Fr...|2019-05-25 13:19:00|    1700.0|      3400.0|    5|   1|\n",
      "|  210292|  Macbook Pro Laptop|               2|    1700.0|06/08/19 09:00|953 Ridge St, San...|2019-06-08 09:00:00|    3400.0|      3400.0|    6|   1|\n",
      "|  227400|        Google Phone|               1|     600.0|07/29/19 20:00|941 Sunset St, Po...|2019-07-29 20:00:00|     600.0|     2323.98|    7|   1|\n",
      "|  227400|  Macbook Pro Laptop|               1|    1700.0|07/29/19 20:00|941 Sunset St, Po...|2019-07-29 20:00:00|    1700.0|     2323.98|    7|   1|\n",
      "|  227400|    Wired Headphones|               2|     11.99|07/29/19 20:00|941 Sunset St, Po...|2019-07-29 20:00:00|     23.98|     2323.98|    7|   1|\n",
      "|  243728|  Macbook Pro Laptop|               1|    1700.0|08/26/19 12:57|665 14th St, Los ...|2019-08-26 12:57:00|    1700.0|      3400.0|    8|   1|\n",
      "|  255318|  Macbook Pro Laptop|               1|    1700.0|09/26/19 11:58|548 Jackson St, D...|2019-09-26 11:58:00|    1700.0|      3400.0|    9|   1|\n",
      "|  261683|  Macbook Pro Laptop|               1|    1700.0|10/04/19 11:29|392 Madison St, D...|2019-10-04 11:29:00|    1700.0|     2699.99|   10|   1|\n",
      "|  261683|     ThinkPad Laptop|               1|    999.99|10/04/19 11:29|392 Madison St, D...|2019-10-04 11:29:00|    999.99|     2699.99|   10|   1|\n",
      "|  286942|        Google Phone|               1|     600.0|11/15/19 20:08|480 West St, New ...|2019-11-15 20:08:00|     600.0|      2300.0|   11|   1|\n",
      "|  286942|  Macbook Pro Laptop|               1|    1700.0|11/15/19 20:08|480 West St, New ...|2019-11-15 20:08:00|    1700.0|      2300.0|   11|   1|\n",
      "|  293934|  Macbook Pro Laptop|               1|    1700.0|11/29/19 15:12|131 Dogwood St, B...|2019-11-29 15:12:00|    1700.0|      2300.0|   11|   1|\n",
      "|  293934|        Google Phone|               1|     600.0|11/29/19 15:12|131 Dogwood St, B...|2019-11-29 15:12:00|     600.0|      2300.0|   11|   1|\n",
      "|  307153|     ThinkPad Laptop|               1|    999.99|12/01/19 10:31|652 14th St, Atla...|2019-12-01 10:31:00|    999.99|     2699.99|   12|   1|\n",
      "|  307153|  Macbook Pro Laptop|               1|    1700.0|12/01/19 10:31|652 14th St, Atla...|2019-12-01 10:31:00|    1700.0|     2699.99|   12|   1|\n",
      "+--------+--------------------+----------------+----------+--------------+--------------------+-------------------+----------+------------+-----+----+\n",
      "\n"
     ]
    }
   ],
   "source": [
    "from pyspark.sql.window import Window\n",
    "\n",
    "#Find total price for each line\n",
    "sales_df = sales_df.withColumn(\"totalprice\",col(\"Price Each\") * col(\"Quantity Ordered\"))\n",
    "\n",
    "#Add total Order Amount to the table\n",
    "order_amounts = sales_df.groupBy(\"Order ID\").agg(expr(\"sum(totalprice)\").alias(\"Order Amount\"))\n",
    "joined_data = sales_df.join(order_amounts, [\"Order ID\"], \"left\" )\n",
    "\n",
    "#Rank the orders based on the total amount for given month\n",
    "\n",
    "joined_data = joined_data.withColumn(\"month\", month(\"timestamp\"))\n",
    "\n",
    "window = Window.partitionBy(\"month\").orderBy(col(\"Order Amount\").desc())\n",
    "joined_data = joined_data.withColumn(\"rank\", rank().over(window))\n",
    "\n",
    "joined_data = joined_data.na.drop(\"any\")\n",
    "\n",
    "#Print the products of the largest order for given day\n",
    "joined_data.where((col(\"rank\") == 1)).select(\"*\").distinct().orderBy(col(\"month\")).show(100)\n",
    "\n"
   ]
  },
  {
   "cell_type": "markdown",
   "id": "4375a16d-00fa-4acc-983a-8cd246d8eec3",
   "metadata": {},
   "source": [
    "# Return the most sold product of each month"
   ]
  },
  {
   "cell_type": "code",
   "execution_count": null,
   "id": "0eb8969c-a7f4-4af4-8faa-49d12578b72c",
   "metadata": {},
   "outputs": [],
   "source": [
    "sales_april_df = spark.read.format(\"csv\").schema(dataSchema).option(\"header\", \"true\") \\\n",
    "       .load(gsc_file_path+'Sales_April_2019.csv')\n",
    "\n",
    "#Drop null rows\n",
    "sales_april_df = sales_april_df.na.drop(\"all\")\n",
    "\n",
    "#Convert \"Order Date\" to data type \"timestamp\"\n",
    "sales_april_df = sales_april_df.withColumn(\"timestamp\",to_timestamp(col(\"Order Date\"),'MM/dd/yy HH:mm')) \\\n",
    "\n",
    "sales_april_df.printSchema()\n",
    "sales_april_df.show(5)"
   ]
  },
  {
   "cell_type": "code",
   "execution_count": 167,
   "id": "76da773a-f6be-4ed2-9b50-4c094025f8ed",
   "metadata": {},
   "outputs": [],
   "source": [
    "spark.stop()"
   ]
  }
 ],
 "metadata": {
  "kernelspec": {
   "display_name": "Python 3",
   "language": "python",
   "name": "python3"
  },
  "language_info": {
   "codemirror_mode": {
    "name": "ipython",
    "version": 3
   },
   "file_extension": ".py",
   "mimetype": "text/x-python",
   "name": "python",
   "nbconvert_exporter": "python",
   "pygments_lexer": "ipython3",
   "version": "3.9.4"
  }
 },
 "nbformat": 4,
 "nbformat_minor": 5
}
