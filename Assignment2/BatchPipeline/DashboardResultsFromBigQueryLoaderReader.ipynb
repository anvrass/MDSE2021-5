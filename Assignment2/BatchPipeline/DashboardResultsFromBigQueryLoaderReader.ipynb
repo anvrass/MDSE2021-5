{
 "cells": [
  {
   "cell_type": "code",
   "execution_count": null,
   "id": "73873a18-d2ac-45ec-8c53-e8a2899117d2",
   "metadata": {},
   "outputs": [],
   "source": [
    "import sys\n",
    "!{sys.executable} -m pip install google-cloud-bigquery"
   ]
  },
  {
   "cell_type": "code",
   "execution_count": 10,
   "id": "f761356c-194e-4ee6-91bd-5cff11b0cfb6",
   "metadata": {},
   "outputs": [
    {
     "name": "stdout",
     "output_type": "stream",
     "text": [
      "                     Product  Price_Each      Order_Date  Order_Amount\n",
      "0         Macbook Pro Laptop     1700.00  05/25/19 13:19       3400.00\n",
      "1         Macbook Pro Laptop     1700.00  05/13/19 13:40       3400.00\n",
      "2         Macbook Pro Laptop     1700.00  06/08/19 09:00       3400.00\n",
      "3         Macbook Pro Laptop     1700.00  08/26/19 12:57       3400.00\n",
      "4         Macbook Pro Laptop     1700.00  09/26/19 11:58       3400.00\n",
      "5                     iPhone      700.00  02/26/19 12:38       2400.00\n",
      "6         Macbook Pro Laptop     1700.00  02/26/19 12:38       2400.00\n",
      "7         Macbook Pro Laptop     1700.00  03/22/19 22:44       1850.00\n",
      "8         Macbook Pro Laptop     1700.00  03/27/19 17:07       1850.00\n",
      "9   Apple Airpods Headphones      150.00  03/27/19 17:07       1850.00\n",
      "10  Apple Airpods Headphones      150.00  03/22/19 22:44       1850.00\n",
      "11              Google Phone      600.00  11/29/19 15:12       2300.00\n",
      "12              Google Phone      600.00  11/15/19 20:08       2300.00\n",
      "13        Macbook Pro Laptop     1700.00  11/29/19 15:12       2300.00\n",
      "14        Macbook Pro Laptop     1700.00  11/15/19 20:08       2300.00\n",
      "15           ThinkPad Laptop      999.99  10/04/19 11:29       2699.99\n",
      "16           ThinkPad Laptop      999.99  12/01/19 10:31       2699.99\n",
      "17        Macbook Pro Laptop     1700.00  10/04/19 11:29       2699.99\n",
      "18        Macbook Pro Laptop     1700.00  12/01/19 10:31       2699.99\n",
      "19        Macbook Pro Laptop     1700.00  04/27/19 21:01       3779.99\n",
      "20    34in Ultrawide Monitor      379.99  04/27/19 21:01       3779.99\n",
      "21              Google Phone      600.00  07/29/19 20:00       2323.98\n",
      "22          Wired Headphones       11.99  07/29/19 20:00       2323.98\n",
      "23        Macbook Pro Laptop     1700.00  07/29/19 20:00       2323.98\n",
      "24           ThinkPad Laptop      999.99  01/31/19 17:47       1999.98\n"
     ]
    }
   ],
   "source": [
    "from google.cloud import bigquery\n",
    "\n",
    "# upload to BigQuery\n",
    "client = bigquery.Client(project=\"de2021-325520\")   # use your project id\n",
    "\n",
    "table_ref = client.dataset(\"a2_dataset\").table(\"products\")  # use the correct dataset name and table name\n",
    "\n",
    "table = client.get_table(table_ref)\n",
    "df = client.list_rows(table).to_dataframe()\n",
    "# job is a sync operation so we have to wait for it to finish\n",
    "print(df)"
   ]
  },
  {
   "cell_type": "code",
   "execution_count": 12,
   "id": "b42a32dc-42d8-47d9-b839-dcee7523b88d",
   "metadata": {},
   "outputs": [
    {
     "name": "stdout",
     "output_type": "stream",
     "text": [
      "Row(('Macbook Pro Laptop', 1700.0, '05/25/19 13:19', 3400.0), {'Product': 0, 'Price_Each': 1, 'Order_Date': 2, 'Order_Amount': 3})\n",
      "Row(('Macbook Pro Laptop', 1700.0, '05/13/19 13:40', 3400.0), {'Product': 0, 'Price_Each': 1, 'Order_Date': 2, 'Order_Amount': 3})\n",
      "Row(('Macbook Pro Laptop', 1700.0, '06/08/19 09:00', 3400.0), {'Product': 0, 'Price_Each': 1, 'Order_Date': 2, 'Order_Amount': 3})\n",
      "Row(('Macbook Pro Laptop', 1700.0, '08/26/19 12:57', 3400.0), {'Product': 0, 'Price_Each': 1, 'Order_Date': 2, 'Order_Amount': 3})\n",
      "Row(('Macbook Pro Laptop', 1700.0, '09/26/19 11:58', 3400.0), {'Product': 0, 'Price_Each': 1, 'Order_Date': 2, 'Order_Amount': 3})\n",
      "Row(('iPhone', 700.0, '02/26/19 12:38', 2400.0), {'Product': 0, 'Price_Each': 1, 'Order_Date': 2, 'Order_Amount': 3})\n",
      "Row(('Macbook Pro Laptop', 1700.0, '02/26/19 12:38', 2400.0), {'Product': 0, 'Price_Each': 1, 'Order_Date': 2, 'Order_Amount': 3})\n",
      "Row(('Macbook Pro Laptop', 1700.0, '03/22/19 22:44', 1850.0), {'Product': 0, 'Price_Each': 1, 'Order_Date': 2, 'Order_Amount': 3})\n",
      "Row(('Macbook Pro Laptop', 1700.0, '03/27/19 17:07', 1850.0), {'Product': 0, 'Price_Each': 1, 'Order_Date': 2, 'Order_Amount': 3})\n",
      "Row(('Apple Airpods Headphones', 150.0, '03/27/19 17:07', 1850.0), {'Product': 0, 'Price_Each': 1, 'Order_Date': 2, 'Order_Amount': 3})\n",
      "Row(('Apple Airpods Headphones', 150.0, '03/22/19 22:44', 1850.0), {'Product': 0, 'Price_Each': 1, 'Order_Date': 2, 'Order_Amount': 3})\n",
      "Row(('Google Phone', 600.0, '11/29/19 15:12', 2300.0), {'Product': 0, 'Price_Each': 1, 'Order_Date': 2, 'Order_Amount': 3})\n",
      "Row(('Google Phone', 600.0, '11/15/19 20:08', 2300.0), {'Product': 0, 'Price_Each': 1, 'Order_Date': 2, 'Order_Amount': 3})\n",
      "Row(('Macbook Pro Laptop', 1700.0, '11/29/19 15:12', 2300.0), {'Product': 0, 'Price_Each': 1, 'Order_Date': 2, 'Order_Amount': 3})\n",
      "Row(('Macbook Pro Laptop', 1700.0, '11/15/19 20:08', 2300.0), {'Product': 0, 'Price_Each': 1, 'Order_Date': 2, 'Order_Amount': 3})\n",
      "Row(('ThinkPad Laptop', 999.99, '10/04/19 11:29', 2699.99), {'Product': 0, 'Price_Each': 1, 'Order_Date': 2, 'Order_Amount': 3})\n",
      "Row(('ThinkPad Laptop', 999.99, '12/01/19 10:31', 2699.99), {'Product': 0, 'Price_Each': 1, 'Order_Date': 2, 'Order_Amount': 3})\n",
      "Row(('Macbook Pro Laptop', 1700.0, '10/04/19 11:29', 2699.99), {'Product': 0, 'Price_Each': 1, 'Order_Date': 2, 'Order_Amount': 3})\n",
      "Row(('Macbook Pro Laptop', 1700.0, '12/01/19 10:31', 2699.99), {'Product': 0, 'Price_Each': 1, 'Order_Date': 2, 'Order_Amount': 3})\n",
      "Row(('Macbook Pro Laptop', 1700.0, '04/27/19 21:01', 3779.99), {'Product': 0, 'Price_Each': 1, 'Order_Date': 2, 'Order_Amount': 3})\n",
      "Row(('34in Ultrawide Monitor', 379.99, '04/27/19 21:01', 3779.99), {'Product': 0, 'Price_Each': 1, 'Order_Date': 2, 'Order_Amount': 3})\n",
      "Row(('Google Phone', 600.0, '07/29/19 20:00', 2323.98), {'Product': 0, 'Price_Each': 1, 'Order_Date': 2, 'Order_Amount': 3})\n",
      "Row(('Wired Headphones', 11.99, '07/29/19 20:00', 2323.98), {'Product': 0, 'Price_Each': 1, 'Order_Date': 2, 'Order_Amount': 3})\n",
      "Row(('Macbook Pro Laptop', 1700.0, '07/29/19 20:00', 2323.98), {'Product': 0, 'Price_Each': 1, 'Order_Date': 2, 'Order_Amount': 3})\n",
      "Row(('ThinkPad Laptop', 999.99, '01/31/19 17:47', 1999.98), {'Product': 0, 'Price_Each': 1, 'Order_Date': 2, 'Order_Amount': 3})\n"
     ]
    }
   ],
   "source": [
    "QUERY = (\n",
    "    'SELECT * FROM `de2021-325520.a2_dataset.products` LIMIT 100')   # use the correct project id, etc.\n",
    "query_job = client.query(QUERY)  # API request\n",
    "rows = query_job.result()  # Waits for query to finish\n",
    "\n",
    "for row in rows:\n",
    "    print(row)"
   ]
  }
 ],
 "metadata": {
  "kernelspec": {
   "display_name": "Python 3",
   "language": "python",
   "name": "python3"
  },
  "language_info": {
   "codemirror_mode": {
    "name": "ipython",
    "version": 3
   },
   "file_extension": ".py",
   "mimetype": "text/x-python",
   "name": "python",
   "nbconvert_exporter": "python",
   "pygments_lexer": "ipython3",
   "version": "3.9.4"
  }
 },
 "nbformat": 4,
 "nbformat_minor": 5
}
