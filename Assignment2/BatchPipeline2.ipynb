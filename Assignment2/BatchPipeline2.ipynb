{
 "cells": [
  {
   "cell_type": "code",
   "execution_count": 130,
   "id": "6082e75e-8022-421f-b8da-fe8765c5b058",
   "metadata": {},
   "outputs": [
    {
     "name": "stdout",
     "output_type": "stream",
     "text": [
      "root\n",
      " |-- Order ID: long (nullable = true)\n",
      " |-- Product: string (nullable = true)\n",
      " |-- Quantity Ordered: integer (nullable = true)\n",
      " |-- Price Each: double (nullable = true)\n",
      " |-- Order Date: string (nullable = true)\n",
      " |-- Purchase Address: string (nullable = true)\n",
      " |-- timestamp: timestamp (nullable = true)\n",
      "\n",
      "+--------+--------------------+----------------+----------+--------------+--------------------+-------------------+\n",
      "|Order ID|             Product|Quantity Ordered|Price Each|    Order Date|    Purchase Address|          timestamp|\n",
      "+--------+--------------------+----------------+----------+--------------+--------------------+-------------------+\n",
      "|  176558|USB-C Charging Cable|               2|     11.95|04/19/19 08:46|917 1st St, Dalla...|2019-04-19 08:46:00|\n",
      "|  176559|Bose SoundSport H...|               1|     99.99|04/07/19 22:30|682 Chestnut St, ...|2019-04-07 22:30:00|\n",
      "|  176560|        Google Phone|               1|     600.0|04/12/19 14:38|669 Spruce St, Lo...|2019-04-12 14:38:00|\n",
      "|  176560|    Wired Headphones|               1|     11.99|04/12/19 14:38|669 Spruce St, Lo...|2019-04-12 14:38:00|\n",
      "|  176561|    Wired Headphones|               1|     11.99|04/30/19 09:27|333 8th St, Los A...|2019-04-30 09:27:00|\n",
      "+--------+--------------------+----------------+----------+--------------+--------------------+-------------------+\n",
      "only showing top 5 rows\n",
      "\n"
     ]
    }
   ],
   "source": [
    "from pyspark.sql import SparkSession\n",
    "from pyspark import SparkConf\n",
    "from pyspark.sql.types import StructType, StructField, LongType, StringType, DoubleType, DateType, IntegerType\n",
    "from pyspark.sql.functions import *\n",
    "\n",
    "sparkConf = SparkConf()\n",
    "sparkConf.setMaster(\"spark://spark-master:7077\")\n",
    "sparkConf.setAppName(\"GCSExample\")\n",
    "sparkConf.set(\"spark.driver.memory\", \"2g\")\n",
    "sparkConf.set(\"spark.executor.cores\", \"1\")\n",
    "sparkConf.set(\"spark.driver.cores\", \"1\")\n",
    "\n",
    "# create the spark session, which is the entry point to Spark SQL engine.\n",
    "spark = SparkSession.builder.config(conf=sparkConf).getOrCreate()\n",
    "\n",
    "# Setup hadoop fs configuration for schema gs://\n",
    "conf = spark.sparkContext._jsc.hadoopConfiguration()\n",
    "conf.set(\"fs.gs.impl\", \"com.google.cloud.hadoop.fs.gcs.GoogleHadoopFileSystem\")\n",
    "conf.set(\"fs.AbstractFileSystem.gs.impl\", \"com.google.cloud.hadoop.fs.gcs.GoogleHadoopFS\")\n",
    "\n",
    "# Create data frame, we use GS bucket as data sink\n",
    "\n",
    "# Google Storage File Path\n",
    "gsc_file_path = 'gs://dejads_input_assignment2/' \n",
    "\n",
    "dataSchema = StructType(\n",
    "    [StructField(\"Order ID\", LongType(), True),\n",
    "     StructField(\"Product\", StringType(), True),\n",
    "     StructField(\"Quantity Ordered\", IntegerType(), True),\n",
    "     StructField(\"Price Each\", DoubleType(), True),\n",
    "     StructField(\"Order Date\", StringType(), True),\n",
    "     StructField(\"Purchase Address\", StringType(), True)\n",
    "     ])\n",
    "\n",
    "sales_april_df = spark.read.format(\"csv\").schema(dataSchema).option(\"header\", \"true\") \\\n",
    "       .load(gsc_file_path+'Sales_April_2019.csv')\n",
    "\n",
    "#Drop null rows\n",
    "sales_april_df = sales_april_df.na.drop(\"all\")\n",
    "\n",
    "#Convert \"Order Date\" to data type \"timestamp\"\n",
    "sales_april_df = sales_april_df.withColumn(\"timestamp\",to_timestamp(col(\"Order Date\"),'MM/dd/yy HH:mm')) \\\n",
    "\n",
    "sales_april_df.printSchema()\n",
    "sales_april_df.show(5)\n",
    "\n"
   ]
  },
  {
   "cell_type": "markdown",
   "id": "23f1dd7d-9165-4c4e-9a03-c726dd250bbe",
   "metadata": {},
   "source": [
    "# Return the names of ordered products from the largest order for each day"
   ]
  },
  {
   "cell_type": "code",
   "execution_count": 137,
   "id": "58da82f5-0004-44c8-a2b8-eb1503c77b61",
   "metadata": {},
   "outputs": [
    {
     "name": "stdout",
     "output_type": "stream",
     "text": [
      "+------------------+\n",
      "|           Product|\n",
      "+------------------+\n",
      "|Macbook Pro Laptop|\n",
      "+------------------+\n",
      "\n"
     ]
    }
   ],
   "source": [
    "from pyspark.sql.window import Window\n",
    "\n",
    "#Find total price for each line\n",
    "sales_april_df = sales_april_df.withColumn(\"totalprice\",col(\"Price Each\") * col(\"Quantity Ordered\"))\n",
    "\n",
    "#Add total Order Amount to the table\n",
    "order_amounts = sales_april_df.groupBy(\"Order ID\").agg(expr(\"sum(totalprice)\").alias(\"Order Amount\"))\n",
    "joined_data = sales_april_df.join(order_amounts, [\"Order ID\"], \"left\" )\n",
    "\n",
    "#Rank the orders based on the total amount for given month\n",
    "\n",
    "joined_data = joined_data.withColumn(\"day\", dayofmonth(\"timestamp\"))\n",
    "\n",
    "window = Window.partitionBy(\"day\").orderBy(col(\"Order Amount\").desc())\n",
    "joined_data = joined_data.withColumn(\"rank\", rank().over(window))\n",
    "\n",
    "#Print the products of the largest order for given day\n",
    "joined_data.where((col(\"rank\") == 1) & (col(\"day\") == 8)).select(\"Product\").distinct().show()\n",
    "\n"
   ]
  },
  {
   "cell_type": "code",
   "execution_count": 138,
   "id": "76da773a-f6be-4ed2-9b50-4c094025f8ed",
   "metadata": {},
   "outputs": [],
   "source": [
    "spark.stop()"
   ]
  }
 ],
 "metadata": {
  "kernelspec": {
   "display_name": "Python 3",
   "language": "python",
   "name": "python3"
  },
  "language_info": {
   "codemirror_mode": {
    "name": "ipython",
    "version": 3
   },
   "file_extension": ".py",
   "mimetype": "text/x-python",
   "name": "python",
   "nbconvert_exporter": "python",
   "pygments_lexer": "ipython3",
   "version": "3.9.4"
  }
 },
 "nbformat": 4,
 "nbformat_minor": 5
}
